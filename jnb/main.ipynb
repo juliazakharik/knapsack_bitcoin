{
 "cells": [
  {
   "cell_type": "code",
   "execution_count": 116,
   "outputs": [],
   "source": [
    "import pandas as pd\n",
    "import numpy as np\n",
    "import random\n",
    "random.seed(10)"
   ],
   "metadata": {
    "collapsed": false,
    "pycharm": {
     "name": "#%%\n"
    }
   }
  },
  {
   "cell_type": "markdown",
   "source": [
    "-c_{1}*x_{1} + (-c_{2})*x_{2} + ...+-c_{n}*x_{n}\\rightarrow"
   ],
   "metadata": {
    "collapsed": false,
    "pycharm": {
     "name": "#%% md\n"
    }
   }
  },
  {
   "cell_type": "markdown",
   "source": [
    "$$-c_{1}*x_{1} + (-c_{2})*x_{2} + ...+(-c_{n})*x_{n}\\rightarrow{max}$$\n",
    "$$-(A+M)<{-c_{1}*x_{1} + (-c_{2})*x_{2} + ...+(-c_{n})*x_{n}}\\leq{A}$$"
   ],
   "metadata": {
    "collapsed": false
   }
  },
  {
   "cell_type": "code",
   "execution_count": 106,
   "outputs": [],
   "source": [
    "# original knapsack issue\n",
    "def get_memtable(value, A=16):\n",
    "      # value = sorted(random.sample(range(1, 15), 4))\n",
    "      n = len(value) # находим размеры таблицы\n",
    "\n",
    "      # создаём таблицу из нулевых значений\n",
    "      V = [[0 for a in range(A+1)] for i in range(n+1)]\n",
    "\n",
    "      for i in range(n+1):\n",
    "            for a in range(A+1):\n",
    "                  # базовый случай\n",
    "                  if i == 0 or a == 0:\n",
    "                        V[i][a] = 0\n",
    "\n",
    "                  # если площадь предмета меньше площади столбца,\n",
    "                  # максимизируем значение суммарной ценности\n",
    "                  elif value[i-1] <= a:\n",
    "                        V[i][a] = max(value[i-1] + V[i-1][a-value[i-1]], V[i-1][a])\n",
    "\n",
    "                  # если площадь предмета больше площади столбца,\n",
    "                  # забираем значение ячейки из предыдущей строки\n",
    "                  else:\n",
    "                        V[i][a] = V[i-1][a]\n",
    "      return V, value"
   ],
   "metadata": {
    "collapsed": false,
    "pycharm": {
     "name": "#%%\n"
    }
   }
  },
  {
   "cell_type": "markdown",
   "source": [
    "$$f_{w,i} = \\begin{cases}f_{w,i-1} &,  w_{i} < w\\\\min(f_{w,i-1}, f_{w + w_{i},i-1}) + c_{i} &,  w_{i} >= -w\\end{cases}$$"
   ],
   "metadata": {
    "collapsed": false,
    "pycharm": {
     "name": "#%% md\n"
    }
   }
  },
  {
   "cell_type": "code",
   "execution_count": 107,
   "outputs": [],
   "source": [
    "# knapsack issue with negative weights\n",
    "def get_memtable_neg(value, A=-16):\n",
    "      # value = sorted(random.sample(range(1, 15), 4))\n",
    "      value = [-1 * x for x in value]\n",
    "      n = len(value) # находим размеры таблицы\n",
    "\n",
    "      # создаём таблицу из нулевых значений\n",
    "      V = [[0 for a in range(-A+1)] for i in range(n+1)]\n",
    "      for i in range(n+1):\n",
    "            for a in range(-A+1):\n",
    "                  # print(i, a)\n",
    "                  # базовый случай\n",
    "                  if i == 0 or a == 0:\n",
    "                        V[i][a] = 0\n",
    "\n",
    "                  # если площадь предмета меньше площади столбца,\n",
    "                  # максимизируем значение суммарной ценности\n",
    "                  elif value[i-1] >= -a:\n",
    "                        # print('elif', i, i-1, a)\n",
    "                        V[i][a] = min(value[i-1] + V[i-1][a+value[i-1]], V[i-1][a])\n",
    "\n",
    "                  # если площадь предмета больше площади столбца,\n",
    "                  # забираем значение ячейки из предыдущей строки\n",
    "                  else:\n",
    "                        V[i][a] = V[i-1][a]\n",
    "      return V, value"
   ],
   "metadata": {
    "collapsed": false,
    "pycharm": {
     "name": "#%%\n"
    }
   }
  },
  {
   "cell_type": "code",
   "execution_count": 111,
   "outputs": [],
   "source": [
    "val = sorted(random.sample(range(1, 15), 4))\n",
    "A = 16\n",
    "V, value = get_memtable(val, A=A)\n",
    "V_neg, value_neg = get_memtable_neg(val, A=-A)"
   ],
   "metadata": {
    "collapsed": false,
    "pycharm": {
     "name": "#%%\n"
    }
   }
  },
  {
   "cell_type": "code",
   "execution_count": 122,
   "outputs": [
    {
     "data": {
      "text/plain": "True"
     },
     "execution_count": 122,
     "metadata": {},
     "output_type": "execute_result"
    }
   ],
   "source": [
    "# check if both algorithms are equivalent: -1 * V_neg == V\n",
    "[[-1 * a for a in row] for row in V_neg] == V"
   ],
   "metadata": {
    "collapsed": false,
    "pycharm": {
     "name": "#%%\n"
    }
   }
  },
  {
   "cell_type": "code",
   "execution_count": null,
   "outputs": [],
   "source": [],
   "metadata": {
    "collapsed": false,
    "pycharm": {
     "name": "#%%\n"
    }
   }
  }
 ],
 "metadata": {
  "kernelspec": {
   "display_name": "Python 3",
   "language": "python",
   "name": "python3"
  },
  "language_info": {
   "codemirror_mode": {
    "name": "ipython",
    "version": 2
   },
   "file_extension": ".py",
   "mimetype": "text/x-python",
   "name": "python",
   "nbconvert_exporter": "python",
   "pygments_lexer": "ipython2",
   "version": "2.7.6"
  }
 },
 "nbformat": 4,
 "nbformat_minor": 0
}